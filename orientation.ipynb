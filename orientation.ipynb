{
 "cells": [
  {
   "cell_type": "code",
   "execution_count": 1,
   "metadata": {},
   "outputs": [
    {
     "name": "stdout",
     "output_type": "stream",
     "text": [
      "HelloWorld\n"
     ]
    }
   ],
   "source": [
    "string1 = \"Hello\"\n",
    "string2 = \"World\"\n",
    "result = string1 + string2\n",
    "print(result)  # prints \"HelloWorld\""
   ]
  },
  {
   "cell_type": "code",
   "execution_count": 2,
   "metadata": {},
   "outputs": [
    {
     "name": "stdout",
     "output_type": "stream",
     "text": [
      "Hello World!\n"
     ]
    }
   ],
   "source": [
    "string1 = \"Hello\"\n",
    "string2 = \"World\"\n",
    "string3 = \"!\"\n",
    "result = string1 + \" \" + string2 + string3\n",
    "print(result)  # prints \"Hello World!\""
   ]
  },
  {
   "cell_type": "code",
   "execution_count": 3,
   "metadata": {},
   "outputs": [
    {
     "name": "stdout",
     "output_type": "stream",
     "text": [
      "5 + 10 = 15\n"
     ]
    }
   ],
   "source": [
    "num1 = 5\n",
    "num2 = 10\n",
    "result = str(num1) + \" + \" + str(num2) + \" = \" + str(num1 + num2)\n",
    "print(result)  # prints \"5 + 10 = 15\""
   ]
  },
  {
   "cell_type": "code",
   "execution_count": 4,
   "metadata": {},
   "outputs": [
    {
     "name": "stdout",
     "output_type": "stream",
     "text": [
      "x is positive\n"
     ]
    }
   ],
   "source": [
    "x = 5\n",
    "if x > 0:\n",
    "  print(\"x is positive\")"
   ]
  },
  {
   "cell_type": "code",
   "execution_count": 5,
   "metadata": {},
   "outputs": [
    {
     "name": "stdout",
     "output_type": "stream",
     "text": [
      "x is positive\n"
     ]
    }
   ],
   "source": [
    "x = 5\n",
    "if x > 0:\n",
    "  print(\"x is positive\")\n",
    "else:\n",
    "  print(\"x is not positive\")"
   ]
  },
  {
   "cell_type": "code",
   "execution_count": 6,
   "metadata": {},
   "outputs": [
    {
     "name": "stdout",
     "output_type": "stream",
     "text": [
      "x is positive\n"
     ]
    }
   ],
   "source": [
    "x = 5\n",
    "if x > 0:\n",
    "  print(\"x is positive\")\n",
    "elif x == 0:\n",
    "  print(\"x is zero\")\n",
    "else:\n",
    "  print(\"x is negative\")"
   ]
  },
  {
   "cell_type": "code",
   "execution_count": 7,
   "metadata": {},
   "outputs": [
    {
     "name": "stdout",
     "output_type": "stream",
     "text": [
      "1\n",
      "2\n",
      "3\n",
      "4\n",
      "5\n"
     ]
    }
   ],
   "source": [
    "numbers = [1, 2, 3, 4, 5]\n",
    "for number in numbers:\n",
    "  print(number)"
   ]
  },
  {
   "cell_type": "code",
   "execution_count": 8,
   "metadata": {},
   "outputs": [
    {
     "name": "stdout",
     "output_type": "stream",
     "text": [
      "0\n",
      "1\n",
      "2\n",
      "3\n",
      "4\n"
     ]
    }
   ],
   "source": [
    "for i in range(5):\n",
    "  print(i)"
   ]
  },
  {
   "cell_type": "code",
   "execution_count": 9,
   "metadata": {},
   "outputs": [
    {
     "name": "stdout",
     "output_type": "stream",
     "text": [
      "2\n",
      "4\n",
      "6\n",
      "8\n"
     ]
    }
   ],
   "source": [
    "for i in range(2, 10, 2):\n",
    "  print(i)"
   ]
  },
  {
   "cell_type": "code",
   "execution_count": 10,
   "metadata": {},
   "outputs": [
    {
     "name": "stdout",
     "output_type": "stream",
     "text": [
      "0\n",
      "1\n",
      "2\n",
      "3\n",
      "4\n"
     ]
    }
   ],
   "source": [
    "x = 0\n",
    "while x < 5:\n",
    "  print(x)\n",
    "  x += 1"
   ]
  },
  {
   "cell_type": "code",
   "execution_count": 11,
   "metadata": {},
   "outputs": [
    {
     "name": "stdout",
     "output_type": "stream",
     "text": [
      "0\n",
      "1\n",
      "2\n",
      "3\n",
      "4\n"
     ]
    }
   ],
   "source": [
    "x = 0\n",
    "while True:\n",
    "  print(x)\n",
    "  x += 1\n",
    "  if x >= 5:\n",
    "    break\n"
   ]
  },
  {
   "cell_type": "code",
   "execution_count": 12,
   "metadata": {},
   "outputs": [
    {
     "name": "stdout",
     "output_type": "stream",
     "text": [
      "25\n"
     ]
    }
   ],
   "source": [
    "def square(x):\n",
    "  return x * x\n",
    "result = square(5)\n",
    "print(result)  # prints 25"
   ]
  },
  {
   "cell_type": "code",
   "execution_count": 13,
   "metadata": {},
   "outputs": [
    {
     "name": "stdout",
     "output_type": "stream",
     "text": [
      "7\n"
     ]
    }
   ],
   "source": [
    "def add(x, y):\n",
    "  return x + y\n",
    "\n",
    "result = add(3, 4)\n",
    "print(result)  # prints 7"
   ]
  },
  {
   "attachments": {},
   "cell_type": "markdown",
   "metadata": {},
   "source": [
    "### Setting the default value"
   ]
  },
  {
   "cell_type": "code",
   "execution_count": 14,
   "metadata": {},
   "outputs": [
    {
     "name": "stdout",
     "output_type": "stream",
     "text": [
      "4\n",
      "7\n"
     ]
    }
   ],
   "source": [
    "def add(x, y=1):\n",
    "  return x + y\n",
    "\n",
    "result = add(3)\n",
    "print(result)  # prints 4\n",
    "\n",
    "result = add(3, 4)\n",
    "print(result)  # prints 7"
   ]
  },
  {
   "cell_type": "code",
   "execution_count": 15,
   "metadata": {},
   "outputs": [
    {
     "name": "stdout",
     "output_type": "stream",
     "text": [
      "--ip=127.0.0.1\n",
      "--stdin=9003\n",
      "--control=9001\n",
      "--hb=9000\n",
      "--Session.signature_scheme=\"hmac-sha256\"\n",
      "--Session.key=b\"1b1f1d39-1ce1-485c-9b91-7363505f084c\"\n",
      "--shell=9002\n",
      "--transport=\"tcp\"\n",
      "--iopub=9004\n",
      "--f=/Users/ask/Library/Jupyter/runtime/kernel-v2-23099tZGGp9GvZ6v1.json\n"
     ]
    }
   ],
   "source": [
    "import sys\n",
    "\n",
    "# The first argument is always the script name, so we start at index 1\n",
    "for arg in sys.argv[1:]:\n",
    "  print(arg)"
   ]
  },
  {
   "cell_type": "code",
   "execution_count": 1,
   "metadata": {},
   "outputs": [
    {
     "name": "stdout",
     "output_type": "stream",
     "text": [
      "True\n",
      "False\n"
     ]
    }
   ],
   "source": [
    "a = True\n",
    "b = False\n",
    "\n",
    "print(a)\n",
    "print(b)\n"
   ]
  },
  {
   "cell_type": "code",
   "execution_count": 13,
   "metadata": {},
   "outputs": [
    {
     "name": "stdout",
     "output_type": "stream",
     "text": [
      "20\n",
      "30\n",
      "40\n",
      "50\n"
     ]
    }
   ],
   "source": [
    "a='HackerRank'.ljust(20,'-')\n",
    "b='HackerRank'.ljust(30,'-')\n",
    "c='HackerRank'.ljust(40,'-')\n",
    "d='HackerRank'.ljust(50,'-')\n",
    "print(len(a))\n",
    "print(len(b))\n",
    "print(len(c))\n",
    "print(len(d))"
   ]
  },
  {
   "cell_type": "code",
   "execution_count": 96,
   "metadata": {},
   "outputs": [
    {
     "name": "stdout",
     "output_type": "stream",
     "text": [
      "    H    \n",
      "   HHH   \n",
      "  HHHHH  \n",
      " HHHHHHH \n",
      "HHHHHHHHH\n"
     ]
    }
   ],
   "source": [
    "def top(thickness):\n",
    "  count = 1\n",
    "  length = thickness*2 -1\n",
    "  for i in range(thickness):\n",
    "    a = 'H'*count\n",
    "    print(a.center(length))\n",
    "    count +=2\n",
    "\n",
    "top(5)\n",
    "\n"
   ]
  },
  {
   "cell_type": "code",
   "execution_count": 40,
   "metadata": {},
   "outputs": [
    {
     "name": "stdout",
     "output_type": "stream",
     "text": [
      "  HHHHH               HHHHH  \n",
      "11\n"
     ]
    }
   ],
   "source": [
    "thickness = 5\n",
    "length =9\n",
    "\n",
    "a = 'H'*5\n",
    "space_size = thickness*2+1\n",
    "space = ' '*space_size\n",
    "print(a.center(length)+space+a.center(length))\n",
    "print(len(space))\n",
    "\n"
   ]
  },
  {
   "cell_type": "code",
   "execution_count": 99,
   "metadata": {},
   "outputs": [
    {
     "name": "stdout",
     "output_type": "stream",
     "text": [
      "  H  \n",
      " HHH \n",
      "HHHHH\n",
      " HHH         HHH \n",
      " HHH         HHH \n",
      " HHH         HHH \n",
      " HHH         HHH \n"
     ]
    }
   ],
   "source": [
    "def second(thickness):\n",
    "  length = thickness*2 -1\n",
    "  letter = 'H'*thickness\n",
    "  space_size = thickness * 2 +1\n",
    "  space = ' '*space_size\n",
    "  for i in range(thickness+1):\n",
    "    print(letter.center(length)+space+letter.center(length))\n",
    "\n",
    "top(3)\n",
    "second(3)"
   ]
  },
  {
   "cell_type": "code",
   "execution_count": 106,
   "metadata": {},
   "outputs": [
    {
     "name": "stdout",
     "output_type": "stream",
     "text": [
      "  H  \n",
      " HHH \n",
      "HHHHH\n",
      " HHH         HHH \n",
      " HHH         HHH \n",
      " HHH         HHH \n",
      " HHH         HHH \n",
      " HHHHHHHHHHHHHHH  \n",
      " HHHHHHHHHHHHHHH  \n",
      " HHH         HHH \n",
      " HHH         HHH \n",
      " HHH         HHH \n",
      " HHH         HHH \n"
     ]
    }
   ],
   "source": [
    "def center(thickness):\n",
    "  length = thickness*6\n",
    "  for i in range((thickness+1)//2):\n",
    "    letter_len = thickness*5\n",
    "    letter = 'H'*letter_len\n",
    "    print(letter.center(length))\n",
    "\n",
    "top(3)\n",
    "second(3)\n",
    "center(3)\n",
    "second(3)"
   ]
  },
  {
   "cell_type": "code",
   "execution_count": 110,
   "metadata": {},
   "outputs": [
    {
     "name": "stdout",
     "output_type": "stream",
     "text": [
      "                    HHHHHHHHH\n",
      "                     HHHHHHH \n",
      "                      HHHHH  \n",
      "                       HHH   \n",
      "                        H    \n",
      "29\n"
     ]
    }
   ],
   "source": [
    "def bottom(thickness):\n",
    "  length = thickness*2 -1\n",
    "  length2 = thickness*6-1\n",
    "  count = thickness -1\n",
    "  for i in range(thickness,0,-1):\n",
    "    a = 'H'*(i + count)\n",
    "    b = a.center(length)\n",
    "    print(b.rjust(length2))\n",
    "    count -=1\n",
    "  print(length2)\n",
    "bottom(5)"
   ]
  },
  {
   "cell_type": "code",
   "execution_count": null,
   "metadata": {},
   "outputs": [],
   "source": []
  },
  {
   "cell_type": "code",
   "execution_count": 115,
   "metadata": {},
   "outputs": [
    {
     "name": "stdout",
     "output_type": "stream",
     "text": [
      "       H       \n",
      "      HHH      \n",
      "     HHHHH     \n",
      "    HHHHHHH    \n",
      "   HHHHHHHHH   \n",
      "  HHHHHHHHHHH  \n",
      " HHHHHHHHHHHHH \n",
      "HHHHHHHHHHHHHHH\n",
      "    HHHHHHHH                        HHHHHHHH   \n",
      "    HHHHHHHH                        HHHHHHHH   \n",
      "    HHHHHHHH                        HHHHHHHH   \n",
      "    HHHHHHHH                        HHHHHHHH   \n",
      "    HHHHHHHH                        HHHHHHHH   \n",
      "    HHHHHHHH                        HHHHHHHH   \n",
      "    HHHHHHHH                        HHHHHHHH   \n",
      "    HHHHHHHH                        HHHHHHHH   \n",
      "    HHHHHHHH                        HHHHHHHH   \n",
      "    HHHHHHHHHHHHHHHHHHHHHHHHHHHHHHHHHHHHHHHH    \n",
      "    HHHHHHHHHHHHHHHHHHHHHHHHHHHHHHHHHHHHHHHH    \n",
      "    HHHHHHHHHHHHHHHHHHHHHHHHHHHHHHHHHHHHHHHH    \n",
      "    HHHHHHHHHHHHHHHHHHHHHHHHHHHHHHHHHHHHHHHH    \n",
      "    HHHHHHHH                        HHHHHHHH   \n",
      "    HHHHHHHH                        HHHHHHHH   \n",
      "    HHHHHHHH                        HHHHHHHH   \n",
      "    HHHHHHHH                        HHHHHHHH   \n",
      "    HHHHHHHH                        HHHHHHHH   \n",
      "    HHHHHHHH                        HHHHHHHH   \n",
      "    HHHHHHHH                        HHHHHHHH   \n",
      "    HHHHHHHH                        HHHHHHHH   \n",
      "    HHHHHHHH                        HHHHHHHH   \n",
      "                                HHHHHHHHHHHHHHH\n",
      "                                 HHHHHHHHHHHHH \n",
      "                                  HHHHHHHHHHH  \n",
      "                                   HHHHHHHHH   \n",
      "                                    HHHHHHH    \n",
      "                                     HHHHH     \n",
      "                                      HHH      \n",
      "                                       H       \n",
      "47\n"
     ]
    }
   ],
   "source": [
    "a = 8\n",
    "top(a)\n",
    "second(a)\n",
    "center(a)\n",
    "second(a)\n",
    "bottom(a)"
   ]
  },
  {
   "cell_type": "code",
   "execution_count": 116,
   "metadata": {},
   "outputs": [
    {
     "name": "stdout",
     "output_type": "stream",
     "text": [
      " H \n",
      "HHH\n",
      " HHHHHHHHHH \n",
      " HH      HH     \n",
      " HH      HH     \n",
      " HH      HH     \n",
      "        HHH \n",
      "         H  \n"
     ]
    }
   ],
   "source": [
    "#Replace all ______ with rjust, ljust or center. \n",
    "\n",
    "thickness = int(input()) #This must be an odd number\n",
    "c = 'H'\n",
    "\n",
    "#Top Cone\n",
    "for i in range(thickness):\n",
    "    print((c*i).rjust(thickness-1)+c+(c*i).ljust(thickness-1))\n",
    "\n",
    "#Top Pillars\n",
    "\n",
    "#Middle Belt\n",
    "for i in range((thickness+1)//2):\n",
    "    print((c*thickness*5).center(thickness*6))    \n",
    "\n",
    "#Bottom Pillars\n",
    "for i in range(thickness+1):\n",
    "    print((c*thickness).center(thickness*2)+(c*thickness).center(thickness*6))    \n",
    "\n",
    "#Bottom Cone\n",
    "for i in range(thickness):\n",
    "    print(((c*(thickness-i-1)).rjust(thickness)+c+(c*(thickness-i-1)).ljust(thickness)).rjust(thickness*6))"
   ]
  },
  {
   "cell_type": "code",
   "execution_count": 79,
   "metadata": {},
   "outputs": [
    {
     "name": "stdout",
     "output_type": "stream",
     "text": [
      "3\n"
     ]
    }
   ],
   "source": [
    "for i in range(thickness):\n",
    "    print(((c*(thickness-i-1)).rjust(thickness)+c+(c*(thickness-i-1)).ljust(thickness)).rjust(thickness*6))"
   ]
  },
  {
   "cell_type": "code",
   "execution_count": 91,
   "metadata": {},
   "outputs": [
    {
     "name": "stdout",
     "output_type": "stream",
     "text": [
      "HHHHH \n",
      "HHHH  \n",
      "HHH   \n",
      "HH    \n",
      "H     \n"
     ]
    }
   ],
   "source": [
    "thickness = int(input())\n",
    "c = 'H'\n",
    "for i in range(thickness):\n",
    "    print(c+(c*(thickness-i-1)).ljust(thickness))"
   ]
  },
  {
   "cell_type": "code",
   "execution_count": 93,
   "metadata": {},
   "outputs": [
    {
     "name": "stdout",
     "output_type": "stream",
     "text": [
      " HHHH\n",
      "  HHH\n",
      "   HH\n",
      "    H\n",
      "     \n"
     ]
    }
   ],
   "source": [
    "for i in range(thickness):\n",
    "    print((c*(thickness-i-1)).rjust(thickness))"
   ]
  },
  {
   "cell_type": "code",
   "execution_count": 1,
   "metadata": {},
   "outputs": [
    {
     "name": "stdout",
     "output_type": "stream",
     "text": [
      "True\n"
     ]
    }
   ],
   "source": [
    "x = {\"a\", \"b\", \"c\"}\n",
    "y = {\"f\", \"e\", \"d\", \"c\", \"b\", \"a\"}\n",
    "\n",
    "z = x.issubset(y)\n",
    "\n",
    "print(z)"
   ]
  },
  {
   "cell_type": "code",
   "execution_count": 6,
   "metadata": {},
   "outputs": [
    {
     "name": "stdout",
     "output_type": "stream",
     "text": [
      "True\n"
     ]
    }
   ],
   "source": [
    "my_set1 = {1, 2, 3}\n",
    "my_set2 = {2, 3}\n",
    "a = my_set2.issubset(my_set1)\n",
    "print(a)"
   ]
  },
  {
   "cell_type": "code",
   "execution_count": 7,
   "metadata": {},
   "outputs": [
    {
     "name": "stdout",
     "output_type": "stream",
     "text": [
      "No, A is not a subset of B\n"
     ]
    }
   ],
   "source": [
    "A = {1, 2, 3, 4}\n",
    "B = {1, 2, 3, 5, 6}\n",
    "is_subset = True\n",
    "for x in A:\n",
    "    if not(x in B):\n",
    "        is_subset = False\n",
    "if (is_subset):\n",
    "    print(\"Yes, A is a subset of B\")\n",
    "else:\n",
    "    print(\"No, A is not a subset of B\")"
   ]
  }
 ],
 "metadata": {
  "kernelspec": {
   "display_name": "Python 3",
   "language": "python",
   "name": "python3"
  },
  "language_info": {
   "codemirror_mode": {
    "name": "ipython",
    "version": 3
   },
   "file_extension": ".py",
   "mimetype": "text/x-python",
   "name": "python",
   "nbconvert_exporter": "python",
   "pygments_lexer": "ipython3",
   "version": "3.10.6"
  },
  "orig_nbformat": 4,
  "vscode": {
   "interpreter": {
    "hash": "aee8b7b246df8f9039afb4144a1f6fd8d2ca17a180786b69acc140d282b71a49"
   }
  }
 },
 "nbformat": 4,
 "nbformat_minor": 2
}
